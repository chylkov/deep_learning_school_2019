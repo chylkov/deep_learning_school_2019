{
 "cells": [
  {
   "cell_type": "markdown",
   "metadata": {},
   "source": [
    "### Почти двойной факториал\n",
    "Дано натуральное N⩽100. Выведите произведение всех нечётных натуральных чисел, не превосходящих N."
   ]
  },
  {
   "cell_type": "code",
   "execution_count": 7,
   "metadata": {},
   "outputs": [
    {
     "name": "stdout",
     "output_type": "stream",
     "text": [
      "25\n",
      "7905853580625\n"
     ]
    }
   ],
   "source": [
    "N = int(input())\n",
    "N_double_fact = 1\n",
    "for i in range(1, N + 1):\n",
    "    if i % 2 == 1:\n",
    "\n",
    "        N_double_fact = N_double_fact * i\n",
    "\n",
    "print(N_double_fact)"
   ]
  },
  {
   "cell_type": "markdown",
   "metadata": {},
   "source": [
    "### Хитрая сортировка\n",
    "Пусть у нас есть следующий список, в котором элементы -- tuple из строк:\n",
    "```python\n",
    "items = [('one', 'two'), ('three', 'four'), ('five', 'six'), ('string', 'a')]\n",
    "```\n",
    "Мы хотим отсортировать этот список по последней букве второго элемента каждого tuple, т.е. получить такой список:\n",
    "```python\n",
    "sorted_items = [ ('string', 'a'), ('one', 'two'), ('three', 'four'), ('five', 'six'),]\n",
    "```\n",
    "Что нужно вставить вместо \"###\" в следующем выражении, чтобы получить сортировку?\n",
    "```python\n",
    "sorted_items = sorted(items, key=lambda x: ###)\n",
    "```"
   ]
  },
  {
   "cell_type": "code",
   "execution_count": 9,
   "metadata": {},
   "outputs": [
    {
     "name": "stdout",
     "output_type": "stream",
     "text": [
      "[('string', 'a'), ('one', 'two'), ('three', 'four'), ('five', 'six')]\n"
     ]
    }
   ],
   "source": [
    "items = [('one', 'two'), ('three', 'four'), ('five', 'six'), ('string', 'a')]\n",
    "\n",
    "sorted_items = sorted(items, key=lambda x: x[1][-1])\n",
    "print(sorted_items)"
   ]
  },
  {
   "cell_type": "markdown",
   "metadata": {},
   "source": [
    "### Слайсы\n",
    "Дан код:\n",
    "```python\n",
    "x = [1, 2, 3, 4, 5]\n",
    "x[###] = [-1, -3, -5]\n",
    "print(x)\n",
    "```    \n",
    "Напишите слайс вместо ###, чтобы на экран вывелось:\n",
    "```python    \n",
    "[-5, 2, -3, 4, -1]\n",
    "```  "
   ]
  },
  {
   "cell_type": "code",
   "execution_count": 26,
   "metadata": {},
   "outputs": [
    {
     "name": "stdout",
     "output_type": "stream",
     "text": [
      "[-5, 2, -3, 4, -1]\n"
     ]
    }
   ],
   "source": [
    "x = [1, 2, 3, 4, 5]\n",
    "x[::-2] = [-1, -3, -5]\n",
    "\n",
    "print(x)"
   ]
  },
  {
   "cell_type": "markdown",
   "metadata": {},
   "source": [
    "### Создание массивов\n",
    "Дан массив A[0,…,N−1]. Напишите функцию, принимающую один обязательный аргумент A и один опциональный аргумент erase, по умолчанию равный 1. Возвратите массив B[0,…,N−1], где Bi=A0+…+Ai --- массив частичных сумм массива A, предварительно удалив из массива B все элементы, равные erase. Постарайтесь сделать это за время O(N) без использования Numpy."
   ]
  },
  {
   "cell_type": "code",
   "execution_count": 30,
   "metadata": {},
   "outputs": [
    {
     "name": "stdout",
     "output_type": "stream",
     "text": [
      "Задание успешно выполнено!\n"
     ]
    }
   ],
   "source": [
    "def cumsum_and_erase(A, erase = 1):\n",
    "    B = []\n",
    "    for i in range(len(A)):\n",
    "        if i != 0:\n",
    "            B.append(A[i] + B[i-1])\n",
    "        else:\n",
    "            B.append(A[i])\n",
    "            \n",
    "    for b in B:\n",
    "        if b == erase:\n",
    "            B.remove(b)\n",
    "\n",
    "\n",
    "    return B\n",
    "\n",
    "\n",
    "def Test():\n",
    "    tests = [[[1, 2, 3, 4, 5, 6], 1], [[4, 2, 5, 1, 3, 2], 5], [[3, 3, 3, 3, 3, 4], 15]]\n",
    "    result_test = [[3, 6, 10, 15, 21], [4, 6, 11, 12, 15, 17], [3, 6, 9, 12, 19]]\n",
    "    result = True\n",
    "    for i in range(len(tests)):\n",
    "        result = result and (cumsum_and_erase(tests[i][0], tests[i][1]) == result_test[i])\n",
    "    if result:\n",
    "        print(\"Задание успешно выполнено!\")\n",
    "    else:\n",
    "        print(\"Ошибка в решении!\")\n",
    "        \n",
    "Test()"
   ]
  },
  {
   "cell_type": "markdown",
   "metadata": {},
   "source": [
    "### Обработка текста\n",
    "Дан список текстов, слова в которых разделены пробелами (можно считать, что знаков препинания нет). Часть слов является \"мусорными\": в них присутствуют цифры и спецсимволы. Отфильтруйте такие слова из каждого текста. Используйте функции str.split, str.isalpha, str.join, а также генератор filter."
   ]
  },
  {
   "cell_type": "code",
   "execution_count": 33,
   "metadata": {},
   "outputs": [
    {
     "name": "stdout",
     "output_type": "stream",
     "text": [
      "Задание успешно выполнено!\n"
     ]
    }
   ],
   "source": [
    "def process(sentences):\n",
    "    result = []\n",
    "    for sentence in sentences:\n",
    "        sentence = sentence.split()\n",
    "        sentence_filter = filter(lambda x: x.isalpha(), sentence)\n",
    "        result.append(' '.join(sentence_filter))\n",
    "\n",
    "    return result\n",
    "\n",
    "\n",
    "texts = [\n",
    "    \"Space is the boundless 3-dimensional 42 extent in which objects \" \\\n",
    "    \"and events have relative 523 position and direction. Physical space \" \\\n",
    "    \"is often conceived in three linear dimensions, although modern \" \\\n",
    "    \"physicists usually consider 42 512515 it, with time, to be part of a boundless \" \\\n",
    "    \"four-dimensional continuum22 known as spacetime. The concept of space is \" \\\n",
    "    \"considered to b42e of fun*damental importance to an understanding of \" \\\n",
    "    \"the physical universe. However,{ disagreement continues between philosophers \" \\\n",
    "    \"over whether it is itself an entity, a relat[[[ionship between entities, \" \\\n",
    "    \"or part of a conceptual framework. \",\n",
    "    \"Debates concern,,ing the nature, essence and the mode of existence of \" \\\n",
    "    \"space date back to antiq{{{uity; namely, to treatises like the Timaeus \" \\\n",
    "    \"of Plato, or Socrates in his reflections on what the Greeks called \" \\\n",
    "    \"kh?ra (i.e. \\fspace'), or in the Physics of Aristotle (Book IV, Delta) \" \\\n",
    "    \"in the definition of top53253os (i.e. place), or in the later \" \\\n",
    "    \"'geometrical conception of place' as 'space qua extension' in \" \\\n",
    "    \"the Discourse on Place (Qawl fi al-Makan) of the 11th-century \" \\\n",
    "    \"Arab polymath Alhazen.[2] Many of these classical philosophical \" \\\n",
    "    \"questions were discussed in th<>e Renaissance and then reformulated \" \\\n",
    "    \"in the 17th century, particularl**y during the early development of \" \\\n",
    "    \"classical mechanics. In Isaac Newton's view, space was absolute—in \" \\\n",
    "    \"the sense that it existed permanently and independently of whether there was any matter in the space.\"\n",
    "]\n",
    "\n",
    "result = ['Space is the boundless extent in which objects and events have relative position and Physical space is often conceived in three linear although modern physicists usually consider with to be part of a boundless known as The concept of space is considered to of importance to an understanding of the physical disagreement continues between philosophers over whether it is itself an a between or part of a conceptual', 'Debates the essence and the mode of existence of space date back to to treatises like the Timaeus of or Socrates in his reflections on what the Greeks called or in the Physics of Aristotle in the definition of or in the later conception of as qua in the Discourse on Place fi of the Arab polymath Many of these classical philosophical questions were discussed in Renaissance and then reformulated in the during the early development of classical In Isaac space was the sense that it existed permanently and independently of whether there was any matter in the']\n",
    "\n",
    "def Test(texts, result):\n",
    "    if (process(texts) == result):\n",
    "        print(\"Задание успешно выполнено!\")\n",
    "    else:\n",
    "        print(\"Ошибка в функции\")\n",
    "\n",
    "Test(texts, result)"
   ]
  },
  {
   "cell_type": "markdown",
   "metadata": {},
   "source": [
    "### Собственный класс \"Нейрон\"\n",
    "\n",
    "Реализуйте класс \"Нейрон\", у которого будет несколько методов: \n",
    "\n",
    "- __init__. Принимает на вход массив весов нейрона --- w=(w1,…,wn), а также функцию активации f (аргумент по умолчанию f(x)=x). Сохраняет веса и функцию внутри класса.\n",
    "- forward. Принимает на вход массив x=(x1,…,xN) --- входы нейрона. Возвращает f(w1x1+…+wnxn).\n",
    "- backlog. Возвращает массив x, который подавался на вход функции forward при её последнем вызове."
   ]
  },
  {
   "cell_type": "code",
   "execution_count": 40,
   "metadata": {},
   "outputs": [
    {
     "name": "stdout",
     "output_type": "stream",
     "text": [
      "Задание успешно выполнено!\n"
     ]
    }
   ],
   "source": [
    "class Neuron:\n",
    "\n",
    "    def __init__(self, w, f = lambda x: x):\n",
    "        self.w = w\n",
    "        self.f = f\n",
    "\n",
    "    def forward(self, x):\n",
    "        self.x = x\n",
    "        summa = 0\n",
    "        for i in range(len(x)):\n",
    "            summa = summa + x[i] * self.w[i]\n",
    "        return self.f(summa)              \n",
    "                    \n",
    "\n",
    "    def backlog(self):\n",
    "        return self.x\n",
    "    \n",
    "def Test():\n",
    "    test_neuron = Neuron([2, 3, 4, 5, 6], lambda x: x*x)\n",
    "    if (test_neuron.forward([1, 2, 3, 4, 5]) == 4900 and test_neuron.backlog() == [1, 2, 3, 4, 5]):\n",
    "        print(\"Задание успешно выполнено!\")\n",
    "    else:\n",
    "        print(\"Ошибка в решении!\")\n",
    "    \n",
    "Test()"
   ]
  },
  {
   "cell_type": "code",
   "execution_count": null,
   "metadata": {},
   "outputs": [],
   "source": []
  }
 ],
 "metadata": {
  "kernelspec": {
   "display_name": "Python 3",
   "language": "python",
   "name": "python3"
  },
  "language_info": {
   "codemirror_mode": {
    "name": "ipython",
    "version": 3
   },
   "file_extension": ".py",
   "mimetype": "text/x-python",
   "name": "python",
   "nbconvert_exporter": "python",
   "pygments_lexer": "ipython3",
   "version": "3.7.3"
  }
 },
 "nbformat": 4,
 "nbformat_minor": 2
}
